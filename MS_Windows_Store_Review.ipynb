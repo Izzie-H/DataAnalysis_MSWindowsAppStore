{
 "cells": [
  {
   "cell_type": "markdown",
   "metadata": {},
   "source": [
    "**DATA ANALYSIS OF MICROSOFT WINDOWS STORE REVIEW**"
   ]
  },
  {
   "cell_type": "markdown",
   "metadata": {},
   "source": [
    "#### Import Libraries"
   ]
  },
  {
   "cell_type": "code",
   "execution_count": 2,
   "metadata": {},
   "outputs": [
    {
     "name": "stdout",
     "output_type": "stream",
     "text": [
      "Libraries imported Successfully\n"
     ]
    }
   ],
   "source": [
    "import pandas as pd\n",
    "import numpy as np\n",
    "import seaborn as sns\n",
    "import matplotlib.pyplot as plt\n",
    "%matplotlib inline\n",
    "print (\"Libraries imported Successfully\")"
   ]
  },
  {
   "cell_type": "markdown",
   "metadata": {},
   "source": [
    "#### Read Data"
   ]
  },
  {
   "cell_type": "code",
   "execution_count": 4,
   "metadata": {},
   "outputs": [],
   "source": [
    "ms_df = pd.read_csv(r'C:\\Users\\izzie\\Downloads\\msft.csv')"
   ]
  },
  {
   "cell_type": "code",
   "execution_count": 5,
   "metadata": {},
   "outputs": [
    {
     "data": {
      "text/html": [
       "<div>\n",
       "<style scoped>\n",
       "    .dataframe tbody tr th:only-of-type {\n",
       "        vertical-align: middle;\n",
       "    }\n",
       "\n",
       "    .dataframe tbody tr th {\n",
       "        vertical-align: top;\n",
       "    }\n",
       "\n",
       "    .dataframe thead th {\n",
       "        text-align: right;\n",
       "    }\n",
       "</style>\n",
       "<table border=\"1\" class=\"dataframe\">\n",
       "  <thead>\n",
       "    <tr style=\"text-align: right;\">\n",
       "      <th></th>\n",
       "      <th>Name</th>\n",
       "      <th>Rating</th>\n",
       "      <th>No of people Rated</th>\n",
       "      <th>Category</th>\n",
       "      <th>Date</th>\n",
       "      <th>Price</th>\n",
       "    </tr>\n",
       "  </thead>\n",
       "  <tbody>\n",
       "    <tr>\n",
       "      <th>0</th>\n",
       "      <td>Dynamic Reader</td>\n",
       "      <td>3.5</td>\n",
       "      <td>268</td>\n",
       "      <td>Books</td>\n",
       "      <td>07-01-2014</td>\n",
       "      <td>Free</td>\n",
       "    </tr>\n",
       "    <tr>\n",
       "      <th>1</th>\n",
       "      <td>Chemistry, Organic Chemistry and Biochemistry-...</td>\n",
       "      <td>3.0</td>\n",
       "      <td>627</td>\n",
       "      <td>Books</td>\n",
       "      <td>08-01-2014</td>\n",
       "      <td>Free</td>\n",
       "    </tr>\n",
       "    <tr>\n",
       "      <th>2</th>\n",
       "      <td>BookViewer</td>\n",
       "      <td>3.5</td>\n",
       "      <td>593</td>\n",
       "      <td>Books</td>\n",
       "      <td>29-02-2016</td>\n",
       "      <td>Free</td>\n",
       "    </tr>\n",
       "    <tr>\n",
       "      <th>3</th>\n",
       "      <td>Brick Instructions</td>\n",
       "      <td>3.5</td>\n",
       "      <td>684</td>\n",
       "      <td>Books</td>\n",
       "      <td>30-01-2018</td>\n",
       "      <td>Free</td>\n",
       "    </tr>\n",
       "    <tr>\n",
       "      <th>4</th>\n",
       "      <td>Introduction to Python Programming by GoLearni...</td>\n",
       "      <td>2.0</td>\n",
       "      <td>634</td>\n",
       "      <td>Books</td>\n",
       "      <td>30-01-2018</td>\n",
       "      <td>Free</td>\n",
       "    </tr>\n",
       "  </tbody>\n",
       "</table>\n",
       "</div>"
      ],
      "text/plain": [
       "                                                Name  Rating  \\\n",
       "0                                     Dynamic Reader     3.5   \n",
       "1  Chemistry, Organic Chemistry and Biochemistry-...     3.0   \n",
       "2                                         BookViewer     3.5   \n",
       "3                                 Brick Instructions     3.5   \n",
       "4  Introduction to Python Programming by GoLearni...     2.0   \n",
       "\n",
       "   No of people Rated Category        Date Price  \n",
       "0                 268    Books  07-01-2014  Free  \n",
       "1                 627    Books  08-01-2014  Free  \n",
       "2                 593    Books  29-02-2016  Free  \n",
       "3                 684    Books  30-01-2018  Free  \n",
       "4                 634    Books  30-01-2018  Free  "
      ]
     },
     "execution_count": 5,
     "metadata": {},
     "output_type": "execute_result"
    }
   ],
   "source": [
    "ms_df.head()"
   ]
  },
  {
   "cell_type": "code",
   "execution_count": 6,
   "metadata": {},
   "outputs": [
    {
     "data": {
      "text/plain": [
       "(5322, 6)"
      ]
     },
     "execution_count": 6,
     "metadata": {},
     "output_type": "execute_result"
    }
   ],
   "source": [
    "ms_df.shape"
   ]
  },
  {
   "cell_type": "code",
   "execution_count": 7,
   "metadata": {},
   "outputs": [
    {
     "data": {
      "text/html": [
       "<div>\n",
       "<style scoped>\n",
       "    .dataframe tbody tr th:only-of-type {\n",
       "        vertical-align: middle;\n",
       "    }\n",
       "\n",
       "    .dataframe tbody tr th {\n",
       "        vertical-align: top;\n",
       "    }\n",
       "\n",
       "    .dataframe thead th {\n",
       "        text-align: right;\n",
       "    }\n",
       "</style>\n",
       "<table border=\"1\" class=\"dataframe\">\n",
       "  <thead>\n",
       "    <tr style=\"text-align: right;\">\n",
       "      <th></th>\n",
       "      <th>Rating</th>\n",
       "      <th>No of people Rated</th>\n",
       "    </tr>\n",
       "  </thead>\n",
       "  <tbody>\n",
       "    <tr>\n",
       "      <th>count</th>\n",
       "      <td>5321.000000</td>\n",
       "      <td>5322.000000</td>\n",
       "    </tr>\n",
       "    <tr>\n",
       "      <th>mean</th>\n",
       "      <td>3.792708</td>\n",
       "      <td>551.873168</td>\n",
       "    </tr>\n",
       "    <tr>\n",
       "      <th>std</th>\n",
       "      <td>0.991681</td>\n",
       "      <td>259.820088</td>\n",
       "    </tr>\n",
       "    <tr>\n",
       "      <th>min</th>\n",
       "      <td>1.000000</td>\n",
       "      <td>100.000000</td>\n",
       "    </tr>\n",
       "    <tr>\n",
       "      <th>25%</th>\n",
       "      <td>3.500000</td>\n",
       "      <td>327.000000</td>\n",
       "    </tr>\n",
       "    <tr>\n",
       "      <th>50%</th>\n",
       "      <td>4.000000</td>\n",
       "      <td>548.000000</td>\n",
       "    </tr>\n",
       "    <tr>\n",
       "      <th>75%</th>\n",
       "      <td>4.500000</td>\n",
       "      <td>779.000000</td>\n",
       "    </tr>\n",
       "    <tr>\n",
       "      <th>max</th>\n",
       "      <td>5.000000</td>\n",
       "      <td>1000.000000</td>\n",
       "    </tr>\n",
       "  </tbody>\n",
       "</table>\n",
       "</div>"
      ],
      "text/plain": [
       "            Rating  No of people Rated\n",
       "count  5321.000000         5322.000000\n",
       "mean      3.792708          551.873168\n",
       "std       0.991681          259.820088\n",
       "min       1.000000          100.000000\n",
       "25%       3.500000          327.000000\n",
       "50%       4.000000          548.000000\n",
       "75%       4.500000          779.000000\n",
       "max       5.000000         1000.000000"
      ]
     },
     "execution_count": 7,
     "metadata": {},
     "output_type": "execute_result"
    }
   ],
   "source": [
    "ms_df.describe()"
   ]
  },
  {
   "cell_type": "code",
   "execution_count": 8,
   "metadata": {},
   "outputs": [
    {
     "data": {
      "text/plain": [
       "<matplotlib.axes._subplots.AxesSubplot at 0x175c0a36988>"
      ]
     },
     "execution_count": 8,
     "metadata": {},
     "output_type": "execute_result"
    },
    {
     "data": {
      "image/png": "[encoded data removed]",
      "text/plain": [
       "<Figure size 432x288 with 1 Axes>"
      ]
     },
     "metadata": {
      "needs_background": "light"
     },
     "output_type": "display_data"
    }
   ],
   "source": [
    "ms_df.boxplot()"
   ]
  },
  {
   "cell_type": "code",
   "execution_count": 9,
   "metadata": {},
   "outputs": [
    {
     "data": {
      "text/plain": [
       "array([[<matplotlib.axes._subplots.AxesSubplot object at 0x00000175C122D088>,\n",
       "        <matplotlib.axes._subplots.AxesSubplot object at 0x00000175C1266748>]],\n",
       "      dtype=object)"
      ]
     },
     "execution_count": 9,
     "metadata": {},
     "output_type": "execute_result"
    },
    {
     "data": {
      "image/png": "[encoded data removed]",
      "text/plain": [
       "<Figure size 432x288 with 2 Axes>"
      ]
     },
     "metadata": {
      "needs_background": "light"
     },
     "output_type": "display_data"
    }
   ],
   "source": [
    "ms_df.hist()"
   ]
  },
  {
   "cell_type": "code",
   "execution_count": 10,
   "metadata": {},
   "outputs": [
    {
     "name": "stdout",
     "output_type": "stream",
     "text": [
      "<class 'pandas.core.frame.DataFrame'>\n",
      "RangeIndex: 5322 entries, 0 to 5321\n",
      "Data columns (total 6 columns):\n",
      " #   Column              Non-Null Count  Dtype  \n",
      "---  ------              --------------  -----  \n",
      " 0   Name                5321 non-null   object \n",
      " 1   Rating              5321 non-null   float64\n",
      " 2   No of people Rated  5322 non-null   int64  \n",
      " 3   Category            5321 non-null   object \n",
      " 4   Date                5321 non-null   object \n",
      " 5   Price               5321 non-null   object \n",
      "dtypes: float64(1), int64(1), object(4)\n",
      "memory usage: 249.6+ KB\n"
     ]
    }
   ],
   "source": [
    "ms_df.info()"
   ]
  },
  {
   "cell_type": "markdown",
   "metadata": {},
   "source": [
    "## Data Cleaning\n",
    "###### Count the number of missing values in the dataframe"
   ]
  },
  {
   "cell_type": "code",
   "execution_count": 11,
   "metadata": {},
   "outputs": [
    {
     "data": {
      "text/html": [
       "<div>\n",
       "<style scoped>\n",
       "    .dataframe tbody tr th:only-of-type {\n",
       "        vertical-align: middle;\n",
       "    }\n",
       "\n",
       "    .dataframe tbody tr th {\n",
       "        vertical-align: top;\n",
       "    }\n",
       "\n",
       "    .dataframe thead th {\n",
       "        text-align: right;\n",
       "    }\n",
       "</style>\n",
       "<table border=\"1\" class=\"dataframe\">\n",
       "  <thead>\n",
       "    <tr style=\"text-align: right;\">\n",
       "      <th></th>\n",
       "      <th>Name</th>\n",
       "      <th>Rating</th>\n",
       "      <th>No of people Rated</th>\n",
       "      <th>Category</th>\n",
       "      <th>Date</th>\n",
       "      <th>Price</th>\n",
       "    </tr>\n",
       "  </thead>\n",
       "  <tbody>\n",
       "    <tr>\n",
       "      <th>0</th>\n",
       "      <td>False</td>\n",
       "      <td>False</td>\n",
       "      <td>False</td>\n",
       "      <td>False</td>\n",
       "      <td>False</td>\n",
       "      <td>False</td>\n",
       "    </tr>\n",
       "    <tr>\n",
       "      <th>1</th>\n",
       "      <td>False</td>\n",
       "      <td>False</td>\n",
       "      <td>False</td>\n",
       "      <td>False</td>\n",
       "      <td>False</td>\n",
       "      <td>False</td>\n",
       "    </tr>\n",
       "    <tr>\n",
       "      <th>2</th>\n",
       "      <td>False</td>\n",
       "      <td>False</td>\n",
       "      <td>False</td>\n",
       "      <td>False</td>\n",
       "      <td>False</td>\n",
       "      <td>False</td>\n",
       "    </tr>\n",
       "    <tr>\n",
       "      <th>3</th>\n",
       "      <td>False</td>\n",
       "      <td>False</td>\n",
       "      <td>False</td>\n",
       "      <td>False</td>\n",
       "      <td>False</td>\n",
       "      <td>False</td>\n",
       "    </tr>\n",
       "    <tr>\n",
       "      <th>4</th>\n",
       "      <td>False</td>\n",
       "      <td>False</td>\n",
       "      <td>False</td>\n",
       "      <td>False</td>\n",
       "      <td>False</td>\n",
       "      <td>False</td>\n",
       "    </tr>\n",
       "    <tr>\n",
       "      <th>...</th>\n",
       "      <td>...</td>\n",
       "      <td>...</td>\n",
       "      <td>...</td>\n",
       "      <td>...</td>\n",
       "      <td>...</td>\n",
       "      <td>...</td>\n",
       "    </tr>\n",
       "    <tr>\n",
       "      <th>5317</th>\n",
       "      <td>False</td>\n",
       "      <td>False</td>\n",
       "      <td>False</td>\n",
       "      <td>False</td>\n",
       "      <td>False</td>\n",
       "      <td>False</td>\n",
       "    </tr>\n",
       "    <tr>\n",
       "      <th>5318</th>\n",
       "      <td>False</td>\n",
       "      <td>False</td>\n",
       "      <td>False</td>\n",
       "      <td>False</td>\n",
       "      <td>False</td>\n",
       "      <td>False</td>\n",
       "    </tr>\n",
       "    <tr>\n",
       "      <th>5319</th>\n",
       "      <td>False</td>\n",
       "      <td>False</td>\n",
       "      <td>False</td>\n",
       "      <td>False</td>\n",
       "      <td>False</td>\n",
       "      <td>False</td>\n",
       "    </tr>\n",
       "    <tr>\n",
       "      <th>5320</th>\n",
       "      <td>False</td>\n",
       "      <td>False</td>\n",
       "      <td>False</td>\n",
       "      <td>False</td>\n",
       "      <td>False</td>\n",
       "      <td>False</td>\n",
       "    </tr>\n",
       "    <tr>\n",
       "      <th>5321</th>\n",
       "      <td>True</td>\n",
       "      <td>True</td>\n",
       "      <td>False</td>\n",
       "      <td>True</td>\n",
       "      <td>True</td>\n",
       "      <td>True</td>\n",
       "    </tr>\n",
       "  </tbody>\n",
       "</table>\n",
       "<p>5322 rows × 6 columns</p>\n",
       "</div>"
      ],
      "text/plain": [
       "       Name  Rating  No of people Rated  Category   Date  Price\n",
       "0     False   False               False     False  False  False\n",
       "1     False   False               False     False  False  False\n",
       "2     False   False               False     False  False  False\n",
       "3     False   False               False     False  False  False\n",
       "4     False   False               False     False  False  False\n",
       "...     ...     ...                 ...       ...    ...    ...\n",
       "5317  False   False               False     False  False  False\n",
       "5318  False   False               False     False  False  False\n",
       "5319  False   False               False     False  False  False\n",
       "5320  False   False               False     False  False  False\n",
       "5321   True    True               False      True   True   True\n",
       "\n",
       "[5322 rows x 6 columns]"
      ]
     },
     "execution_count": 11,
     "metadata": {},
     "output_type": "execute_result"
    }
   ],
   "source": [
    "ms_df.isnull()"
   ]
  },
  {
   "cell_type": "code",
   "execution_count": 12,
   "metadata": {},
   "outputs": [
    {
     "data": {
      "text/plain": [
       "Name                  1\n",
       "Rating                1\n",
       "No of people Rated    0\n",
       "Category              1\n",
       "Date                  1\n",
       "Price                 1\n",
       "dtype: int64"
      ]
     },
     "execution_count": 12,
     "metadata": {},
     "output_type": "execute_result"
    }
   ],
   "source": [
    "# Count the number of missing values in each column\n",
    "ms_df.isnull().sum()"
   ]
  },
  {
   "cell_type": "markdown",
   "metadata": {},
   "source": [
    "#### Check how many ratings are more than 5 - Outliers"
   ]
  },
  {
   "cell_type": "code",
   "execution_count": 13,
   "metadata": {},
   "outputs": [
    {
     "data": {
      "text/html": [
       "<div>\n",
       "<style scoped>\n",
       "    .dataframe tbody tr th:only-of-type {\n",
       "        vertical-align: middle;\n",
       "    }\n",
       "\n",
       "    .dataframe tbody tr th {\n",
       "        vertical-align: top;\n",
       "    }\n",
       "\n",
       "    .dataframe thead th {\n",
       "        text-align: right;\n",
       "    }\n",
       "</style>\n",
       "<table border=\"1\" class=\"dataframe\">\n",
       "  <thead>\n",
       "    <tr style=\"text-align: right;\">\n",
       "      <th></th>\n",
       "      <th>Name</th>\n",
       "      <th>Rating</th>\n",
       "      <th>No of people Rated</th>\n",
       "      <th>Category</th>\n",
       "      <th>Date</th>\n",
       "      <th>Price</th>\n",
       "    </tr>\n",
       "  </thead>\n",
       "  <tbody>\n",
       "  </tbody>\n",
       "</table>\n",
       "</div>"
      ],
      "text/plain": [
       "Empty DataFrame\n",
       "Columns: [Name, Rating, No of people Rated, Category, Date, Price]\n",
       "Index: []"
      ]
     },
     "execution_count": 13,
     "metadata": {},
     "output_type": "execute_result"
    }
   ],
   "source": [
    "ms_df[ms_df.Rating > 5]"
   ]
  },
  {
   "cell_type": "markdown",
   "metadata": {},
   "source": [
    "#### Remove columns that are 90% empty"
   ]
  },
  {
   "cell_type": "code",
   "execution_count": 14,
   "metadata": {},
   "outputs": [
    {
     "data": {
      "text/plain": [
       "532.2"
      ]
     },
     "execution_count": 14,
     "metadata": {},
     "output_type": "execute_result"
    }
   ],
   "source": [
    "threshold = len(ms_df)* 0.1\n",
    "threshold"
   ]
  },
  {
   "cell_type": "code",
   "execution_count": 15,
   "metadata": {},
   "outputs": [],
   "source": [
    "ms_df.dropna(thresh=threshold, axis=1, inplace=True)"
   ]
  },
  {
   "cell_type": "code",
   "execution_count": 16,
   "metadata": {},
   "outputs": [
    {
     "name": "stdout",
     "output_type": "stream",
     "text": [
      "Name                  1\n",
      "Rating                1\n",
      "No of people Rated    0\n",
      "Category              1\n",
      "Date                  1\n",
      "Price                 1\n",
      "dtype: int64\n"
     ]
    }
   ],
   "source": [
    "print(ms_df.isnull().sum())"
   ]
  },
  {
   "cell_type": "code",
   "execution_count": 18,
   "metadata": {},
   "outputs": [],
   "source": [
    "ms_df = ms_df.dropna()"
   ]
  },
  {
   "cell_type": "code",
   "execution_count": 19,
   "metadata": {},
   "outputs": [
    {
     "name": "stdout",
     "output_type": "stream",
     "text": [
      "Name                  0\n",
      "Rating                0\n",
      "No of people Rated    0\n",
      "Category              0\n",
      "Date                  0\n",
      "Price                 0\n",
      "dtype: int64\n"
     ]
    }
   ],
   "source": [
    "print(ms_df.isnull().sum())"
   ]
  },
  {
   "cell_type": "code",
   "execution_count": 21,
   "metadata": {},
   "outputs": [
    {
     "data": {
      "text/plain": [
       "Name                   object\n",
       "Rating                float64\n",
       "No of people Rated      int64\n",
       "Category               object\n",
       "Date                   object\n",
       "Price                  object\n",
       "dtype: object"
      ]
     },
     "execution_count": 21,
     "metadata": {},
     "output_type": "execute_result"
    }
   ],
   "source": [
    "ms_df.dtypes"
   ]
  },
  {
   "cell_type": "code",
   "execution_count": 22,
   "metadata": {},
   "outputs": [
    {
     "name": "stderr",
     "output_type": "stream",
     "text": [
      "C:\\Users\\izzie\\anaconda3\\lib\\site-packages\\ipykernel_launcher.py:1: SettingWithCopyWarning: \n",
      "A value is trying to be set on a copy of a slice from a DataFrame.\n",
      "Try using .loc[row_indexer,col_indexer] = value instead\n",
      "\n",
      "See the caveats in the documentation: https://pandas.pydata.org/pandas-docs/stable/user_guide/indexing.html#returning-a-view-versus-a-copy\n",
      "  \"\"\"Entry point for launching an IPython kernel.\n"
     ]
    }
   ],
   "source": [
    "ms_df['Price'] = pd.to_numeric(ms_df['Price'], errors='coerce')"
   ]
  },
  {
   "cell_type": "markdown",
   "metadata": {},
   "source": [
    "## Data Visualisation"
   ]
  },
  {
   "cell_type": "code",
   "execution_count": 24,
   "metadata": {},
   "outputs": [
    {
     "data": {
      "text/plain": [
       "Music                      753\n",
       "Books                      707\n",
       "Business                   679\n",
       "Health and Fitness         527\n",
       "Developer Tools            500\n",
       "Lifestyle                  492\n",
       "News and Weather           483\n",
       "Kids and Family            345\n",
       "Social                     328\n",
       "Food and Dining            166\n",
       "Navigation and Maps        154\n",
       "Multimedia Design          117\n",
       "Government and Politics     70\n",
       "Name: Category, dtype: int64"
      ]
     },
     "execution_count": 24,
     "metadata": {},
     "output_type": "execute_result"
    }
   ],
   "source": [
    "ms_df['Category'].value_counts()"
   ]
  },
  {
   "cell_type": "code",
   "execution_count": 23,
   "metadata": {},
   "outputs": [
    {
     "data": {
      "text/html": [
       "<div>\n",
       "<style scoped>\n",
       "    .dataframe tbody tr th:only-of-type {\n",
       "        vertical-align: middle;\n",
       "    }\n",
       "\n",
       "    .dataframe tbody tr th {\n",
       "        vertical-align: top;\n",
       "    }\n",
       "\n",
       "    .dataframe thead th {\n",
       "        text-align: right;\n",
       "    }\n",
       "</style>\n",
       "<table border=\"1\" class=\"dataframe\">\n",
       "  <thead>\n",
       "    <tr style=\"text-align: right;\">\n",
       "      <th></th>\n",
       "      <th>Name</th>\n",
       "      <th>Rating</th>\n",
       "      <th>No of people Rated</th>\n",
       "      <th>Category</th>\n",
       "      <th>Date</th>\n",
       "      <th>Price</th>\n",
       "    </tr>\n",
       "  </thead>\n",
       "  <tbody>\n",
       "    <tr>\n",
       "      <th>0</th>\n",
       "      <td>Dynamic Reader</td>\n",
       "      <td>3.5</td>\n",
       "      <td>268</td>\n",
       "      <td>Books</td>\n",
       "      <td>07-01-2014</td>\n",
       "      <td>NaN</td>\n",
       "    </tr>\n",
       "    <tr>\n",
       "      <th>1</th>\n",
       "      <td>Chemistry, Organic Chemistry and Biochemistry-...</td>\n",
       "      <td>3.0</td>\n",
       "      <td>627</td>\n",
       "      <td>Books</td>\n",
       "      <td>08-01-2014</td>\n",
       "      <td>NaN</td>\n",
       "    </tr>\n",
       "    <tr>\n",
       "      <th>2</th>\n",
       "      <td>BookViewer</td>\n",
       "      <td>3.5</td>\n",
       "      <td>593</td>\n",
       "      <td>Books</td>\n",
       "      <td>29-02-2016</td>\n",
       "      <td>NaN</td>\n",
       "    </tr>\n",
       "    <tr>\n",
       "      <th>3</th>\n",
       "      <td>Brick Instructions</td>\n",
       "      <td>3.5</td>\n",
       "      <td>684</td>\n",
       "      <td>Books</td>\n",
       "      <td>30-01-2018</td>\n",
       "      <td>NaN</td>\n",
       "    </tr>\n",
       "    <tr>\n",
       "      <th>4</th>\n",
       "      <td>Introduction to Python Programming by GoLearni...</td>\n",
       "      <td>2.0</td>\n",
       "      <td>634</td>\n",
       "      <td>Books</td>\n",
       "      <td>30-01-2018</td>\n",
       "      <td>NaN</td>\n",
       "    </tr>\n",
       "    <tr>\n",
       "      <th>5</th>\n",
       "      <td>Gurbani Reader</td>\n",
       "      <td>4.5</td>\n",
       "      <td>399</td>\n",
       "      <td>Books</td>\n",
       "      <td>18-01-2017</td>\n",
       "      <td>NaN</td>\n",
       "    </tr>\n",
       "    <tr>\n",
       "      <th>6</th>\n",
       "      <td>NFO Viewer</td>\n",
       "      <td>4.5</td>\n",
       "      <td>566</td>\n",
       "      <td>Books</td>\n",
       "      <td>13-11-2012</td>\n",
       "      <td>NaN</td>\n",
       "    </tr>\n",
       "    <tr>\n",
       "      <th>7</th>\n",
       "      <td>Text to Speech TTS</td>\n",
       "      <td>3.0</td>\n",
       "      <td>175</td>\n",
       "      <td>Books</td>\n",
       "      <td>17-10-2013</td>\n",
       "      <td>NaN</td>\n",
       "    </tr>\n",
       "    <tr>\n",
       "      <th>8</th>\n",
       "      <td>ACK Comics</td>\n",
       "      <td>4.0</td>\n",
       "      <td>460</td>\n",
       "      <td>Books</td>\n",
       "      <td>20-12-2012</td>\n",
       "      <td>NaN</td>\n",
       "    </tr>\n",
       "    <tr>\n",
       "      <th>9</th>\n",
       "      <td>Learn Biology and Human Body Anatomy by GoLear...</td>\n",
       "      <td>3.5</td>\n",
       "      <td>363</td>\n",
       "      <td>Books</td>\n",
       "      <td>25-11-2013</td>\n",
       "      <td>NaN</td>\n",
       "    </tr>\n",
       "  </tbody>\n",
       "</table>\n",
       "</div>"
      ],
      "text/plain": [
       "                                                Name  Rating  \\\n",
       "0                                     Dynamic Reader     3.5   \n",
       "1  Chemistry, Organic Chemistry and Biochemistry-...     3.0   \n",
       "2                                         BookViewer     3.5   \n",
       "3                                 Brick Instructions     3.5   \n",
       "4  Introduction to Python Programming by GoLearni...     2.0   \n",
       "5                                     Gurbani Reader     4.5   \n",
       "6                                         NFO Viewer     4.5   \n",
       "7                                 Text to Speech TTS     3.0   \n",
       "8                                         ACK Comics     4.0   \n",
       "9  Learn Biology and Human Body Anatomy by GoLear...     3.5   \n",
       "\n",
       "   No of people Rated Category        Date  Price  \n",
       "0                 268    Books  07-01-2014    NaN  \n",
       "1                 627    Books  08-01-2014    NaN  \n",
       "2                 593    Books  29-02-2016    NaN  \n",
       "3                 684    Books  30-01-2018    NaN  \n",
       "4                 634    Books  30-01-2018    NaN  \n",
       "5                 399    Books  18-01-2017    NaN  \n",
       "6                 566    Books  13-11-2012    NaN  \n",
       "7                 175    Books  17-10-2013    NaN  \n",
       "8                 460    Books  20-12-2012    NaN  \n",
       "9                 363    Books  25-11-2013    NaN  "
      ]
     },
     "execution_count": 23,
     "metadata": {},
     "output_type": "execute_result"
    }
   ],
   "source": [
    "ms_df.head(10)"
   ]
  },
  {
   "cell_type": "code",
   "execution_count": 25,
   "metadata": {},
   "outputs": [
    {
     "name": "stdout",
     "output_type": "stream",
     "text": [
      "Category\n",
      "Books                      3.791372\n",
      "Business                   3.602356\n",
      "Developer Tools            3.886000\n",
      "Food and Dining            3.789157\n",
      "Government and Politics    4.050000\n",
      "Health and Fitness         3.785579\n",
      "Kids and Family            3.947826\n",
      "Lifestyle                  3.850610\n",
      "Multimedia Design          3.551282\n",
      "Music                      3.759628\n",
      "Navigation and Maps        3.801948\n",
      "News and Weather           3.837474\n",
      "Social                     3.847561\n",
      "Name: Rating, dtype: float64\n",
      "Category\n",
      "Books                      0.0\n",
      "Business                   0.0\n",
      "Developer Tools            0.0\n",
      "Food and Dining            0.0\n",
      "Government and Politics    0.0\n",
      "Health and Fitness         0.0\n",
      "Kids and Family            0.0\n",
      "Lifestyle                  0.0\n",
      "Multimedia Design          0.0\n",
      "Music                      0.0\n",
      "Navigation and Maps        0.0\n",
      "News and Weather           0.0\n",
      "Social                     0.0\n",
      "Name: Price, dtype: float64\n",
      "Category\n",
      "Books                      548.545969\n",
      "Business                   549.459499\n",
      "Developer Tools            545.356000\n",
      "Food and Dining            550.891566\n",
      "Government and Politics    548.271429\n",
      "Health and Fitness         558.506641\n",
      "Kids and Family            553.136232\n",
      "Lifestyle                  554.928862\n",
      "Multimedia Design          595.538462\n",
      "Music                      539.104914\n",
      "Navigation and Maps        551.032468\n",
      "News and Weather           549.453416\n",
      "Social                     575.158537\n",
      "Name: No of people Rated, dtype: float64\n"
     ]
    }
   ],
   "source": [
    "grp = ms_df.groupby('Category')\n",
    "x = grp['Rating'].agg(np.mean)\n",
    "y = grp['Price'].agg(np.sum)\n",
    "z = grp['No of people Rated'].agg(np.mean)\n",
    "print(x)\n",
    "print(y)\n",
    "print(z)"
   ]
  },
  {
   "cell_type": "code",
   "execution_count": 26,
   "metadata": {},
   "outputs": [
    {
     "data": {
      "image/png": "[encoded data removed]",
      "text/plain": [
       "<Figure size 864x360 with 1 Axes>"
      ]
     },
     "metadata": {
      "needs_background": "light"
     },
     "output_type": "display_data"
    }
   ],
   "source": [
    "\n",
    "plt.figure(figsize=(12,5))\n",
    "plt.plot(x, \"ro\", color='g')\n",
    "plt.xticks(rotation=90)\n",
    "plt.show()"
   ]
  },
  {
   "cell_type": "code",
   "execution_count": 27,
   "metadata": {},
   "outputs": [
    {
     "data": {
      "image/png": "[encoded data removed]",
      "text/plain": [
       "<Figure size 1152x360 with 1 Axes>"
      ]
     },
     "metadata": {
      "needs_background": "light"
     },
     "output_type": "display_data"
    }
   ],
   "source": [
    "plt.figure(figsize=(16,5))\n",
    "plt.plot(x,'ro', color='r')\n",
    "plt.xticks(rotation=90)\n",
    "plt.title('Category wise Rating')\n",
    "plt.xlabel('Categories-->')\n",
    "plt.ylabel('Rating-->')\n",
    "plt.show()"
   ]
  },
  {
   "cell_type": "code",
   "execution_count": 28,
   "metadata": {},
   "outputs": [
    {
     "data": {
      "image/png": "[encoded data removed]",
      "text/plain": [
       "<Figure size 1152x360 with 1 Axes>"
      ]
     },
     "metadata": {
      "needs_background": "light"
     },
     "output_type": "display_data"
    }
   ],
   "source": [
    "plt.figure(figsize=(16,5))\n",
    "plt.plot(y,'r--', color='b')\n",
    "plt.xticks(rotation=90)\n",
    "plt.title('Category wise Pricing')\n",
    "plt.xlabel('Categories-->')\n",
    "plt.ylabel('Prices-->')\n",
    "plt.show()"
   ]
  },
  {
   "cell_type": "code",
   "execution_count": 29,
   "metadata": {},
   "outputs": [
    {
     "data": {
      "image/png": "[encoded data removed]",
      "text/plain": [
       "<Figure size 1152x360 with 1 Axes>"
      ]
     },
     "metadata": {
      "needs_background": "light"
     },
     "output_type": "display_data"
    }
   ],
   "source": [
    "plt.figure(figsize=(16,5))\n",
    "plt.plot(z,'bs', color='g')\n",
    "plt.xticks(rotation=90)\n",
    "plt.title('Category wise Reviews')\n",
    "plt.xlabel('Categories-->')\n",
    "plt.ylabel('Reviews-->')\n",
    "plt.show()"
   ]
  },
  {
   "cell_type": "code",
   "execution_count": null,
   "metadata": {},
   "outputs": [],
   "source": []
  }
 ],
 "metadata": {
  "kernelspec": {
   "display_name": "Python 3",
   "language": "python",
   "name": "python3"
  },
  "language_info": {
   "name": ""
  }
 },
 "nbformat": 4,
 "nbformat_minor": 4
}
